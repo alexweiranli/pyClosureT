{
 "cells": [
  {
   "cell_type": "code",
   "execution_count": 1,
   "metadata": {},
   "outputs": [],
   "source": [
    "from tctpeak import cal_t"
   ]
  },
  {
   "cell_type": "code",
   "execution_count": null,
   "metadata": {},
   "outputs": [],
   "source": [
    "## Example: Ar in plagioclase\n",
    "# inputs: \n",
    "E = 112             # activation energy, in kJ/mol\n",
    "D0 = 9.77e-13       # pre-exponential factor, in m2/s\n",
    "s = 1               # cooling rate, in C/year \n",
    "a = 500             # crystal radius, in micron\n",
    "Geometry = 'plane'  # use small letter: 'sphere' or 'cylinder' or 'plane'"
   ]
  },
  {
   "cell_type": "code",
   "execution_count": null,
   "metadata": {},
   "outputs": [
    {
     "name": "stdout",
     "output_type": "stream",
     "text": [
      "889.5513722368493 1117.670671312159\n"
     ]
    }
   ],
   "source": [
    "tc_mean,tpeak = cal_t(E,D0,s,a,Geometry).tc_mean(), cal_t(E,D0,s,a,Geometry).tpeak()\n",
    "\n",
    "# outputs: mean closure temperature and peak temperature, in degree Celcius\n",
    "print(tc_mean,tpeak) "
   ]
  },
  {
   "cell_type": "code",
   "execution_count": null,
   "metadata": {},
   "outputs": [],
   "source": []
  }
 ],
 "metadata": {
  "kernelspec": {
   "display_name": "base",
   "language": "python",
   "name": "python3"
  },
  "language_info": {
   "codemirror_mode": {
    "name": "ipython",
    "version": 3
   },
   "file_extension": ".py",
   "mimetype": "text/x-python",
   "name": "python",
   "nbconvert_exporter": "python",
   "pygments_lexer": "ipython3",
   "version": "3.12.4"
  },
  "orig_nbformat": 4
 },
 "nbformat": 4,
 "nbformat_minor": 2
}
